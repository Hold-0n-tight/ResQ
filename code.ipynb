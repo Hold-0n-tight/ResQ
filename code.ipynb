{
  "cells": [
    {
      "cell_type": "code",
      "execution_count": null,
      "metadata": {
        "id": "McbWkWpqQb8P"
      },
      "outputs": [],
      "source": [
        "import torch\n",
        "import torch.nn as nn\n",
        "import torch.optim as optim\n",
        "from sklearn.model_selection import train_test_split\n",
        "from sklearn.preprocessing import StandardScaler\n",
        "import pandas as pd\n",
        "from google.colab import files"
      ]
    },
    {
      "cell_type": "code",
      "execution_count": null,
      "metadata": {
        "colab": {
          "base_uri": "https://localhost:8080/",
          "height": 157
        },
        "id": "6y9iB_iIQmQq",
        "outputId": "2b24dc41-4146-4a7e-a5cb-a4fe0e054386"
      },
      "outputs": [
        {
          "data": {
            "text/html": [
              "\n",
              "     <input type=\"file\" id=\"files-5a5f6ca9-ba25-4d52-afa0-4958c59f96f5\" name=\"files[]\" multiple disabled\n",
              "        style=\"border:none\" />\n",
              "     <output id=\"result-5a5f6ca9-ba25-4d52-afa0-4958c59f96f5\">\n",
              "      Upload widget is only available when the cell has been executed in the\n",
              "      current browser session. Please rerun this cell to enable.\n",
              "      </output>\n",
              "      <script>// Copyright 2017 Google LLC\n",
              "//\n",
              "// Licensed under the Apache License, Version 2.0 (the \"License\");\n",
              "// you may not use this file except in compliance with the License.\n",
              "// You may obtain a copy of the License at\n",
              "//\n",
              "//      http://www.apache.org/licenses/LICENSE-2.0\n",
              "//\n",
              "// Unless required by applicable law or agreed to in writing, software\n",
              "// distributed under the License is distributed on an \"AS IS\" BASIS,\n",
              "// WITHOUT WARRANTIES OR CONDITIONS OF ANY KIND, either express or implied.\n",
              "// See the License for the specific language governing permissions and\n",
              "// limitations under the License.\n",
              "\n",
              "/**\n",
              " * @fileoverview Helpers for google.colab Python module.\n",
              " */\n",
              "(function(scope) {\n",
              "function span(text, styleAttributes = {}) {\n",
              "  const element = document.createElement('span');\n",
              "  element.textContent = text;\n",
              "  for (const key of Object.keys(styleAttributes)) {\n",
              "    element.style[key] = styleAttributes[key];\n",
              "  }\n",
              "  return element;\n",
              "}\n",
              "\n",
              "// Max number of bytes which will be uploaded at a time.\n",
              "const MAX_PAYLOAD_SIZE = 100 * 1024;\n",
              "\n",
              "function _uploadFiles(inputId, outputId) {\n",
              "  const steps = uploadFilesStep(inputId, outputId);\n",
              "  const outputElement = document.getElementById(outputId);\n",
              "  // Cache steps on the outputElement to make it available for the next call\n",
              "  // to uploadFilesContinue from Python.\n",
              "  outputElement.steps = steps;\n",
              "\n",
              "  return _uploadFilesContinue(outputId);\n",
              "}\n",
              "\n",
              "// This is roughly an async generator (not supported in the browser yet),\n",
              "// where there are multiple asynchronous steps and the Python side is going\n",
              "// to poll for completion of each step.\n",
              "// This uses a Promise to block the python side on completion of each step,\n",
              "// then passes the result of the previous step as the input to the next step.\n",
              "function _uploadFilesContinue(outputId) {\n",
              "  const outputElement = document.getElementById(outputId);\n",
              "  const steps = outputElement.steps;\n",
              "\n",
              "  const next = steps.next(outputElement.lastPromiseValue);\n",
              "  return Promise.resolve(next.value.promise).then((value) => {\n",
              "    // Cache the last promise value to make it available to the next\n",
              "    // step of the generator.\n",
              "    outputElement.lastPromiseValue = value;\n",
              "    return next.value.response;\n",
              "  });\n",
              "}\n",
              "\n",
              "/**\n",
              " * Generator function which is called between each async step of the upload\n",
              " * process.\n",
              " * @param {string} inputId Element ID of the input file picker element.\n",
              " * @param {string} outputId Element ID of the output display.\n",
              " * @return {!Iterable<!Object>} Iterable of next steps.\n",
              " */\n",
              "function* uploadFilesStep(inputId, outputId) {\n",
              "  const inputElement = document.getElementById(inputId);\n",
              "  inputElement.disabled = false;\n",
              "\n",
              "  const outputElement = document.getElementById(outputId);\n",
              "  outputElement.innerHTML = '';\n",
              "\n",
              "  const pickedPromise = new Promise((resolve) => {\n",
              "    inputElement.addEventListener('change', (e) => {\n",
              "      resolve(e.target.files);\n",
              "    });\n",
              "  });\n",
              "\n",
              "  const cancel = document.createElement('button');\n",
              "  inputElement.parentElement.appendChild(cancel);\n",
              "  cancel.textContent = 'Cancel upload';\n",
              "  const cancelPromise = new Promise((resolve) => {\n",
              "    cancel.onclick = () => {\n",
              "      resolve(null);\n",
              "    };\n",
              "  });\n",
              "\n",
              "  // Wait for the user to pick the files.\n",
              "  const files = yield {\n",
              "    promise: Promise.race([pickedPromise, cancelPromise]),\n",
              "    response: {\n",
              "      action: 'starting',\n",
              "    }\n",
              "  };\n",
              "\n",
              "  cancel.remove();\n",
              "\n",
              "  // Disable the input element since further picks are not allowed.\n",
              "  inputElement.disabled = true;\n",
              "\n",
              "  if (!files) {\n",
              "    return {\n",
              "      response: {\n",
              "        action: 'complete',\n",
              "      }\n",
              "    };\n",
              "  }\n",
              "\n",
              "  for (const file of files) {\n",
              "    const li = document.createElement('li');\n",
              "    li.append(span(file.name, {fontWeight: 'bold'}));\n",
              "    li.append(span(\n",
              "        `(${file.type || 'n/a'}) - ${file.size} bytes, ` +\n",
              "        `last modified: ${\n",
              "            file.lastModifiedDate ? file.lastModifiedDate.toLocaleDateString() :\n",
              "                                    'n/a'} - `));\n",
              "    const percent = span('0% done');\n",
              "    li.appendChild(percent);\n",
              "\n",
              "    outputElement.appendChild(li);\n",
              "\n",
              "    const fileDataPromise = new Promise((resolve) => {\n",
              "      const reader = new FileReader();\n",
              "      reader.onload = (e) => {\n",
              "        resolve(e.target.result);\n",
              "      };\n",
              "      reader.readAsArrayBuffer(file);\n",
              "    });\n",
              "    // Wait for the data to be ready.\n",
              "    let fileData = yield {\n",
              "      promise: fileDataPromise,\n",
              "      response: {\n",
              "        action: 'continue',\n",
              "      }\n",
              "    };\n",
              "\n",
              "    // Use a chunked sending to avoid message size limits. See b/62115660.\n",
              "    let position = 0;\n",
              "    do {\n",
              "      const length = Math.min(fileData.byteLength - position, MAX_PAYLOAD_SIZE);\n",
              "      const chunk = new Uint8Array(fileData, position, length);\n",
              "      position += length;\n",
              "\n",
              "      const base64 = btoa(String.fromCharCode.apply(null, chunk));\n",
              "      yield {\n",
              "        response: {\n",
              "          action: 'append',\n",
              "          file: file.name,\n",
              "          data: base64,\n",
              "        },\n",
              "      };\n",
              "\n",
              "      let percentDone = fileData.byteLength === 0 ?\n",
              "          100 :\n",
              "          Math.round((position / fileData.byteLength) * 100);\n",
              "      percent.textContent = `${percentDone}% done`;\n",
              "\n",
              "    } while (position < fileData.byteLength);\n",
              "  }\n",
              "\n",
              "  // All done.\n",
              "  yield {\n",
              "    response: {\n",
              "      action: 'complete',\n",
              "    }\n",
              "  };\n",
              "}\n",
              "\n",
              "scope.google = scope.google || {};\n",
              "scope.google.colab = scope.google.colab || {};\n",
              "scope.google.colab._files = {\n",
              "  _uploadFiles,\n",
              "  _uploadFilesContinue,\n",
              "};\n",
              "})(self);\n",
              "</script> "
            ],
            "text/plain": [
              "<IPython.core.display.HTML object>"
            ]
          },
          "metadata": {},
          "output_type": "display_data"
        },
        {
          "name": "stdout",
          "output_type": "stream",
          "text": [
            "Saving MicrobiomeMetadataDictionary.csv to MicrobiomeMetadataDictionary.csv\n",
            "Saving MicrobiomeOTUtaxonomy.csv to MicrobiomeOTUtaxonomy.csv\n",
            "Saving MicrobiomeWithMetadata.csv to MicrobiomeWithMetadata.csv\n"
          ]
        }
      ],
      "source": [
        "uploaded = files.upload()"
      ]
    },
    {
      "cell_type": "code",
      "execution_count": null,
      "metadata": {
        "colab": {
          "base_uri": "https://localhost:8080/"
        },
        "id": "U1UFugzqQmJI",
        "outputId": "a523802b-74b9-401c-d24e-81a0433ed638"
      },
      "outputs": [
        {
          "name": "stdout",
          "output_type": "stream",
          "text": [
            "업로드된 파일: MicrobiomeMetadataDictionary.csv\n",
            "업로드된 파일: MicrobiomeOTUtaxonomy.csv\n",
            "업로드된 파일: MicrobiomeWithMetadata.csv\n"
          ]
        }
      ],
      "source": [
        "for filename in uploaded.keys():\n",
        "    print(f'업로드된 파일: {filename}')"
      ]
    },
    {
      "cell_type": "code",
      "execution_count": null,
      "metadata": {
        "colab": {
          "base_uri": "https://localhost:8080/"
        },
        "id": "fIBSXFxFQl0E",
        "outputId": "d34bf95a-5aa0-48b4-950a-a118214b411d"
      },
      "outputs": [
        {
          "name": "stdout",
          "output_type": "stream",
          "text": [
            "MicrobiomeWithMetadata.csv의 첫 5개 데이터:\n",
            "   Diet  Source  Donor  CollectionMet  Sex          OTU0          OTU1  \\\n",
            "0     0       0      0              0    0  1.560000e-11  4.720000e-11   \n",
            "1     0       1      0              0    0  2.360000e-11  9.530000e-11   \n",
            "2     0       2      0              1    0  6.770000e-11  3.680000e-11   \n",
            "3     0       2      0              0    0  5.520000e-11  9.890000e-11   \n",
            "4     0       3      0              0    0  5.240000e-11  6.340000e-11   \n",
            "\n",
            "           OTU2          OTU3          OTU4  ...       OTU6686       OTU6687  \\\n",
            "0  1.230000e-11  4.520000e-11  2.720000e-11  ...  6.660000e-11  3.020000e-11   \n",
            "1  3.330000e-11  2.670000e-11  2.020000e-11  ...  3.260000e-12  5.390000e-11   \n",
            "2  8.020000e-11  5.490000e-11  1.340000e-11  ...  7.230000e-11  6.300000e-12   \n",
            "3  4.580000e-11  3.540000e-11  2.090000e-11  ...  9.100000e-11  2.940000e-11   \n",
            "4  2.350000e-11  7.470000e-11  2.490000e-11  ...  1.500000e-11  4.900000e-11   \n",
            "\n",
            "        OTU6688       OTU6689       OTU6690       OTU6691       OTU6692  \\\n",
            "0  4.420000e-11  7.310000e-11  7.770000e-11  4.330000e-11  5.440000e-11   \n",
            "1  4.730000e-11  2.600000e-11  4.240000e-11  6.550000e-11  4.850000e-11   \n",
            "2  7.060000e-11  8.310000e-11  3.310000e-11  7.380000e-11  4.450000e-11   \n",
            "3  1.000000e-10  9.820000e-11  8.540000e-11  9.730000e-11  2.960000e-11   \n",
            "4  8.110000e-12  4.670000e-11  8.270000e-11  4.630000e-11  1.600000e-11   \n",
            "\n",
            "        OTU6693       OTU6694       OTU6695  \n",
            "0  8.720000e-11  2.710000e-11  4.970000e-11  \n",
            "1  8.380000e-11  3.500000e-11  7.620000e-11  \n",
            "2  9.650000e-12  7.880000e-11  3.990000e-11  \n",
            "3  8.580000e-13  5.880000e-11  5.510000e-11  \n",
            "4  5.550000e-11  7.840000e-11  8.560000e-11  \n",
            "\n",
            "[5 rows x 6701 columns]\n"
          ]
        }
      ],
      "source": [
        "# 첫 번째 파일 읽기: MicrobiomeWithMetadata.csv\n",
        "df_metadata = pd.read_csv('MicrobiomeWithMetadata.csv')\n",
        "print(\"MicrobiomeWithMetadata.csv의 첫 5개 데이터:\")\n",
        "print(df_metadata.head())  # 데이터 미리보기"
      ]
    },
    {
      "cell_type": "code",
      "execution_count": null,
      "metadata": {
        "colab": {
          "base_uri": "https://localhost:8080/"
        },
        "id": "-NSSzdUTQy6S",
        "outputId": "bebed1f0-c443-429d-a372-712459ddcbb4"
      },
      "outputs": [
        {
          "name": "stdout",
          "output_type": "stream",
          "text": [
            "MicrobiomeMetadataDictionary.csv의 모든 데이터:\n",
            "              Sex     Unnamed: 1\n",
            "0               0           Male\n",
            "1               1         Female\n",
            "2             NaN            NaN\n",
            "3           Donor            NaN\n",
            "4               0     HMouseLFPP\n",
            "5               1          CONVR\n",
            "6               2          Human\n",
            "7               3          Fresh\n",
            "8               4         Frozen\n",
            "9               5  HMouseWestern\n",
            "10              6          CONVD\n",
            "11            NaN            NaN\n",
            "12           Diet            NaN\n",
            "13              0           LFPP\n",
            "14              1        Western\n",
            "15              2          CARBR\n",
            "16              3           FATR\n",
            "17              4       Suckling\n",
            "18              5          Human\n",
            "19            NaN            NaN\n",
            "20         Source            NaN\n",
            "21              0         Cecum1\n",
            "22              1         Cecum2\n",
            "23              2         Colon1\n",
            "24              3         Colon2\n",
            "25              4          Feces\n",
            "26              5            SI1\n",
            "27              6           SI13\n",
            "28              7           SI15\n",
            "29              8            SI2\n",
            "30              9            SI5\n",
            "31             10            SI9\n",
            "32             11        Stomach\n",
            "33             12          Cecum\n",
            "34            NaN            NaN\n",
            "35  CollectionMet            NaN\n",
            "36              0       Contents\n",
            "37              1       Scraping\n"
          ]
        }
      ],
      "source": [
        "# 두 번째 파일 읽기: MicrobiomeMetadataDictionary.csv\n",
        "df_metadata_dict = pd.read_csv('MicrobiomeMetadataDictionary.csv')\n",
        "print(\"MicrobiomeMetadataDictionary.csv의 모든 데이터:\")\n",
        "# MicrobiomeMetadataDictionary.csv 파일의 전체 데이터 출력\n",
        "print(df_metadata_dict)"
      ]
    },
    {
      "cell_type": "code",
      "execution_count": null,
      "metadata": {
        "colab": {
          "base_uri": "https://localhost:8080/"
        },
        "id": "1Yf3yCKAQy25",
        "outputId": "9026081b-c557-4820-c57f-1e141ccd6c51"
      },
      "outputs": [
        {
          "name": "stdout",
          "output_type": "stream",
          "text": [
            "MicrobiomeOTUtaxonomy.csv의 첫 5개 데이터:\n",
            "  #OTU ID\\t   Kingdom         Phylum          Class            Order  \\\n",
            "0    OTU0\\t  Bacteria            NaN            NaN              NaN   \n",
            "1    OTU1\\t  Bacteria     Firmicutes     Clostridia    Clostridiales   \n",
            "2    OTU2\\t  Bacteria     Firmicutes        Bacilli  Lactobacillales   \n",
            "3    OTU3\\t  Bacteria  Bacteroidetes  Bacteroidetes    Bacteroidales   \n",
            "4    OTU4\\t  Bacteria  Bacteroidetes            NaN              NaN   \n",
            "\n",
            "               Family            Genus Unnamed: 7 Unnamed: 8  \n",
            "0                 NaN              NaN        NaN        NaN  \n",
            "1     Ruminococcaceae              NaN        NaN        NaN  \n",
            "2     Enterococcaceae     Enterococcus        NaN        NaN  \n",
            "3  Porphyromonadaceae  Parabacteroides        NaN        NaN  \n",
            "4                 NaN              NaN        NaN        NaN  \n"
          ]
        }
      ],
      "source": [
        "# 세 번째 파일 읽기: MicrobiomeOTUtaxonomy.csv\n",
        "df_otu_taxonomy = pd.read_csv('MicrobiomeOTUtaxonomy.csv')\n",
        "print(\"MicrobiomeOTUtaxonomy.csv의 첫 5개 데이터:\")\n",
        "print(df_otu_taxonomy.head())  # 데이터 미리보기"
      ]
    },
    {
      "cell_type": "code",
      "execution_count": null,
      "metadata": {
        "id": "4-EGSc9nQyy_"
      },
      "outputs": [],
      "source": [
        "# 'Diet' 컬럼을 타겟(y)으로, 나머지 컬럼들을 특징(X)으로 설정\n",
        "X = df_metadata.drop(columns=['Diet'])\n",
        "y = df_metadata['Diet']"
      ]
    },
    {
      "cell_type": "code",
      "execution_count": null,
      "metadata": {
        "id": "32mfGL8gQyvY"
      },
      "outputs": [],
      "source": [
        "# 데이터 표준화 (StandardScaler)\n",
        "scaler = StandardScaler()\n",
        "X_scaled = scaler.fit_transform(X)"
      ]
    },
    {
      "cell_type": "code",
      "execution_count": null,
      "metadata": {
        "id": "dscC3Q0RQyq7"
      },
      "outputs": [],
      "source": [
        "# PyTorch 텐서로 변환\n",
        "X_tensor = torch.tensor(X_scaled, dtype=torch.float32)\n",
        "y_tensor = torch.tensor(y.values, dtype=torch.long)"
      ]
    },
    {
      "cell_type": "code",
      "execution_count": null,
      "metadata": {
        "id": "KqWareOVQynj"
      },
      "outputs": [],
      "source": [
        "# 훈련 데이터와 테스트 데이터 나누기 (80:20)\n",
        "X_train, X_test, y_train, y_test = train_test_split(X_tensor, y_tensor, test_size=0.2, random_state=42)"
      ]
    },
    {
      "cell_type": "code",
      "execution_count": null,
      "metadata": {
        "colab": {
          "base_uri": "https://localhost:8080/"
        },
        "id": "6wRNrvr8Qyka",
        "outputId": "4841c122-b0ff-405f-fdd5-42b32ea061b2"
      },
      "outputs": [
        {
          "name": "stdout",
          "output_type": "stream",
          "text": [
            "훈련 데이터 크기: torch.Size([540, 6700]), 테스트 데이터 크기: torch.Size([135, 6700])\n"
          ]
        }
      ],
      "source": [
        "# 훈련 데이터 크기와 테스트 데이터 크기 출력\n",
        "print(f'훈련 데이터 크기: {X_train.shape}, 테스트 데이터 크기: {X_test.shape}')"
      ]
    },
    {
      "cell_type": "code",
      "execution_count": null,
      "metadata": {
        "id": "gyjWP1y-Qygx"
      },
      "outputs": [],
      "source": [
        "# 모델 1: BasicMLP\n",
        "class BasicMLP(nn.Module):\n",
        "    def __init__(self, input_size, hidden_size, output_size):\n",
        "        super(BasicMLP, self).__init__()\n",
        "        self.fc1 = nn.Linear(input_size, hidden_size)\n",
        "        self.fc2 = nn.Linear(hidden_size, hidden_size)\n",
        "        self.fc3 = nn.Linear(hidden_size, output_size)\n",
        "        self.relu = nn.ReLU()\n",
        "\n",
        "    def forward(self, x):\n",
        "        x = self.relu(self.fc1(x))\n",
        "        x = self.relu(self.fc2(x))\n",
        "        x = self.fc3(x)\n",
        "        return x"
      ]
    },
    {
      "cell_type": "code",
      "execution_count": null,
      "metadata": {
        "id": "_8xuc95UQycW"
      },
      "outputs": [],
      "source": [
        "# 모델 2: LargerMLP\n",
        "class LargerMLP(nn.Module):\n",
        "    def __init__(self, input_size, hidden_size, num_classes):\n",
        "        super(LargerMLP, self).__init__()\n",
        "        self.fc1 = nn.Linear(input_size, 128)\n",
        "        self.fc2 = nn.Linear(128, 128)\n",
        "        self.fc3 = nn.Linear(128, 64)\n",
        "        self.fc4 = nn.Linear(64, num_classes)\n",
        "        self.relu = nn.ReLU()\n",
        "\n",
        "    def forward(self, x):\n",
        "        x = self.relu(self.fc1(x))\n",
        "        x = self.relu(self.fc2(x))\n",
        "        x = self.relu(self.fc3(x))\n",
        "        x = self.fc4(x)\n",
        "        return x"
      ]
    },
    {
      "cell_type": "code",
      "execution_count": null,
      "metadata": {
        "id": "KJWdZelmQyXa"
      },
      "outputs": [],
      "source": [
        "# 모델 3: MLPWithDropoutAndBatchNorm\n",
        "class MLPWithDropoutAndBatchNorm(nn.Module):\n",
        "    def __init__(self, input_size, hidden_size, num_classes):\n",
        "        super(MLPWithDropoutAndBatchNorm, self).__init__()\n",
        "        self.fc1 = nn.Linear(input_size, 128)\n",
        "        self.bn1 = nn.BatchNorm1d(128)\n",
        "        self.dropout1 = nn.Dropout(p=0.5)\n",
        "\n",
        "        self.fc2 = nn.Linear(128, 128)\n",
        "        self.bn2 = nn.BatchNorm1d(128)\n",
        "        self.dropout2 = nn.Dropout(p=0.5)\n",
        "\n",
        "        self.fc3 = nn.Linear(128, 64)\n",
        "        self.bn3 = nn.BatchNorm1d(64)\n",
        "        self.dropout3 = nn.Dropout(p=0.5)\n",
        "\n",
        "        self.fc4 = nn.Linear(64, num_classes)\n",
        "        self.relu = nn.ReLU()\n",
        "\n",
        "    def forward(self, x):\n",
        "        x = self.relu(self.bn1(self.fc1(x)))\n",
        "        x = self.dropout1(x)\n",
        "        x = self.relu(self.bn2(self.fc2(x)))\n",
        "        x = self.dropout2(x)\n",
        "        x = self.relu(self.bn3(self.fc3(x)))\n",
        "        x = self.dropout3(x)\n",
        "        x = self.fc4(x)\n",
        "        return x"
      ]
    },
    {
      "cell_type": "code",
      "execution_count": null,
      "metadata": {
        "id": "zAKWwTAuQyS-"
      },
      "outputs": [],
      "source": [
        "# 공통 하이퍼파라미터 설정\n",
        "input_size = X_train.shape[1]  # 입력 크기 (특징의 수)\n",
        "output_size = len(y.unique())  # 출력 크기 (클래스의 수, 즉 'Diet'의 고유 값의 수)\n",
        "num_epochs = 20  # 학습 횟수\n",
        "learning_rate = 0.001  # 학습률"
      ]
    },
    {
      "cell_type": "code",
      "execution_count": null,
      "metadata": {
        "id": "gcSGwuXFQyOA"
      },
      "outputs": [],
      "source": [
        "# 모델, 손실 함수, 옵티마이저 설정\n",
        "def train_and_evaluate(model, criterion, optimizer, X_train, y_train, X_test, y_test, num_epochs):\n",
        "    # 학습\n",
        "    for epoch in range(num_epochs):\n",
        "        model.train()  # 학습 모드로 전환\n",
        "        optimizer.zero_grad()  # 기울기 초기화\n",
        "        outputs = model(X_train)  # 예측값 계산\n",
        "        loss = criterion(outputs, y_train)  # 손실 계산\n",
        "        loss.backward()  # 역전파\n",
        "        optimizer.step()  # 파라미터 업데이트\n",
        "\n",
        "        if (epoch + 1) % 10 == 0:  # 10번마다 출력\n",
        "            print(f\"Epoch [{epoch+1}/{num_epochs}], Loss: {loss.item():.4f}\")\n",
        "\n",
        "            # 평가\n",
        "    model.eval()  # 평가 모드로 전환\n",
        "    with torch.no_grad():  # 기울기 계산하지 않음\n",
        "        outputs = model(X_test)  # 테스트셋 예측\n",
        "        _, predicted = torch.max(outputs, 1)  # 예측값\n",
        "        correct = (predicted == y_test).sum().item()  # 정확도 계산\n",
        "        accuracy = 100 * correct / y_test.size(0)  # 정확도 퍼센트로 계산\n",
        "        return accuracy"
      ]
    },
    {
      "cell_type": "code",
      "execution_count": null,
      "metadata": {
        "id": "6y7kA9l2QyC0"
      },
      "outputs": [],
      "source": [
        "# 모델 1: BasicMLP\n",
        "model1 = BasicMLP(input_size, hidden_size=64, output_size=output_size)\n",
        "criterion = nn.CrossEntropyLoss()\n",
        "optimizer1 = optim.Adam(model1.parameters(), lr=learning_rate)\n",
        "\n",
        "# 모델 2: LargerMLP\n",
        "model2 = LargerMLP(input_size, hidden_size=128, num_classes=output_size)\n",
        "optimizer2 = optim.Adam(model2.parameters(), lr=learning_rate)\n",
        "\n",
        "# 모델 3: MLPWithDropoutAndBatchNorm\n",
        "model3 = MLPWithDropoutAndBatchNorm(input_size, hidden_size=128, num_classes=output_size)\n",
        "optimizer3 = optim.Adam(model3.parameters(), lr=learning_rate)"
      ]
    },
    {
      "cell_type": "code",
      "execution_count": null,
      "metadata": {
        "colab": {
          "base_uri": "https://localhost:8080/"
        },
        "id": "YcDwgBoZQx_f",
        "outputId": "bab6e3a5-2ce4-4364-c16a-a2022065adc2"
      },
      "outputs": [
        {
          "name": "stdout",
          "output_type": "stream",
          "text": [
            "\n",
            "Training and evaluating BasicMLP...\n",
            "Epoch [10/20], Loss: 0.1533\n",
            "Epoch [20/20], Loss: 0.0120\n",
            "BasicMLP Test Accuracy: 92.59%\n"
          ]
        }
      ],
      "source": [
        "print(\"\\nTraining and evaluating BasicMLP...\")\n",
        "accuracy1 = train_and_evaluate(model1, criterion, optimizer1, X_train, y_train, X_test, y_test, num_epochs)\n",
        "print(f\"BasicMLP Test Accuracy: {accuracy1:.2f}%\")"
      ]
    },
    {
      "cell_type": "code",
      "execution_count": null,
      "metadata": {
        "colab": {
          "base_uri": "https://localhost:8080/"
        },
        "id": "pai5q_5VQx6w",
        "outputId": "7b1cf8e9-4cf6-4adf-feee-2b1be758bb55"
      },
      "outputs": [
        {
          "name": "stdout",
          "output_type": "stream",
          "text": [
            "\n",
            "Training and evaluating LargerMLP...\n",
            "Epoch [10/20], Loss: 0.3973\n",
            "Epoch [20/20], Loss: 0.0189\n",
            "LargerMLP Test Accuracy: 94.81%\n"
          ]
        }
      ],
      "source": [
        "print(\"\\nTraining and evaluating LargerMLP...\")\n",
        "accuracy2 = train_and_evaluate(model2, criterion, optimizer2, X_train, y_train, X_test, y_test, num_epochs)\n",
        "print(f\"LargerMLP Test Accuracy: {accuracy2:.2f}%\")"
      ]
    },
    {
      "cell_type": "code",
      "execution_count": null,
      "metadata": {
        "colab": {
          "base_uri": "https://localhost:8080/"
        },
        "id": "Oj8Lp-PDQx2E",
        "outputId": "500043bc-65d3-4140-a51e-50180b831122"
      },
      "outputs": [
        {
          "name": "stdout",
          "output_type": "stream",
          "text": [
            "\n",
            "Training and evaluating MLPWithDropoutAndBatchNorm...\n",
            "Epoch [10/20], Loss: 1.4897\n",
            "Epoch [20/20], Loss: 0.9985\n",
            "MLPWithDropoutAndBatchNorm Test Accuracy: 95.56%\n"
          ]
        }
      ],
      "source": [
        "print(\"\\nTraining and evaluating MLPWithDropoutAndBatchNorm...\")\n",
        "accuracy3 = train_and_evaluate(model3, criterion, optimizer3, X_train, y_train, X_test, y_test, num_epochs)\n",
        "print(f\"MLPWithDropoutAndBatchNorm Test Accuracy: {accuracy3:.2f}%\")"
      ]
    }
  ],
  "metadata": {
    "colab": {
      "provenance": []
    },
    "kernelspec": {
      "display_name": "Python 3",
      "name": "python3"
    },
    "language_info": {
      "name": "python"
    }
  },
  "nbformat": 4,
  "nbformat_minor": 0
}
